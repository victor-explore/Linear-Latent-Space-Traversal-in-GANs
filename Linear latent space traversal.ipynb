{
 "cells": [
  {
   "cell_type": "markdown",
   "metadata": {},
   "source": [
    "# Linear latent space traversal"
   ]
  },
  {
   "cell_type": "code",
   "execution_count": null,
   "metadata": {},
   "outputs": [],
   "source": [
    "# Define the arguments for Linear Latent Space Traversal\n",
    "# generator = Instance of the GAN generator model"
   ]
  },
  {
   "cell_type": "code",
   "execution_count": null,
   "metadata": {},
   "outputs": [],
   "source": [
    "def linear_latent_space_traversal(generator, start_vector, end_vector, num_samples):\n",
    "    \"\"\"\n",
    "    Perform linear latent space traversal between two noise vectors and generate images.\n",
    "    \n",
    "    Args:\n",
    "    generator (nn.Module): The trained generator model.\n",
    "    start_vector (torch.Tensor): Starting noise vector.\n",
    "    end_vector (torch.Tensor): Ending noise vector.\n",
    "    num_samples (int): Number of samples to generate along the traversal.\n",
    "    \n",
    "    Returns:\n",
    "    torch.Tensor: Tensor of generated images.\n",
    "    \"\"\"\n",
    "    generator.eval()  # Set generator to evaluation mode\n",
    "    \n",
    "    # Ensure input vectors are on the correct device\n",
    "    device = next(generator.parameters()).device  # Get the device of the generator\n",
    "    start_vector = start_vector.to(device)  # Move start vector to the correct device\n",
    "    end_vector = end_vector.to(device)  # Move end vector to the correct device\n",
    "    \n",
    "    # Generate interpolation coefficients\n",
    "    alphas = torch.linspace(0, 1, num_samples).to(device)  # Create evenly spaced coefficients\n",
    "    \n",
    "    # Initialize list to store generated images\n",
    "    generated_images = []\n",
    "    \n",
    "    # Generate images for each interpolated vector\n",
    "    with torch.no_grad():  # Disable gradient computation for inference\n",
    "        for alpha in alphas:\n",
    "            # Perform linear interpolation between start and end vectors\n",
    "            interpolated_vector = start_vector * (1 - alpha) + end_vector * alpha\n",
    "            # Ensure the interpolated vector has the correct shape (1, latent_dim, 1, 1)\n",
    "            interpolated_vector = interpolated_vector.unsqueeze(0)\n",
    "            # Generate image from interpolated vector\n",
    "            generated_image = generator(interpolated_vector)\n",
    "            generated_images.append(generated_image)\n",
    "    \n",
    "    # Stack all generated images into a single tensor\n",
    "    return torch.cat(generated_images, dim=0)  # Return tensor of generated images"
   ]
  },
  {
   "cell_type": "code",
   "execution_count": null,
   "metadata": {},
   "outputs": [],
   "source": [
    "# Create dummy data for testing linear latent space traversal\n",
    "latent_dim = 100  # Latent dimension size, should match the generator's input size\n",
    "num_samples = 20  # Number of samples for traversal\n",
    "\n",
    "# Generate random start and end vectors\n",
    "start_vector = torch.randn(latent_dim, 1, 1)  # Random start vector with shape (100, 1, 1)\n",
    "end_vector = torch.randn(latent_dim, 1, 1)  # Random end vector with shape (100, 1, 1)\n",
    "\n",
    "# Ensure the generator is on the correct device\n",
    "device = next(generator.parameters()).device  # Get the device of the generator\n",
    "generator = generator.to(device)  # Move generator to the correct device\n",
    "\n",
    "# Perform linear latent space traversal\n",
    "traversal_images = linear_latent_space_traversal(generator, start_vector, end_vector, num_samples)  # Generate images along the traversal\n",
    "\n",
    "# Display the generated images\n",
    "plt.figure(figsize=(20, 4))  # Create a new figure with specified size\n",
    "for i in range(num_samples):  # Iterate through each generated image\n",
    "    plt.subplot(1, num_samples, i + 1)  # Create a subplot for each image\n",
    "    img = (traversal_images[i].squeeze().permute(1, 2, 0).cpu().numpy() + 1) / 2  # Denormalize the image\n",
    "    plt.imshow(img)  # Display the image\n",
    "    plt.axis('off')  # Turn off axis labels\n",
    "plt.tight_layout()  # Adjust the layout to prevent overlap\n",
    "plt.show()  # Display the plot\n",
    "\n",
    "print(f\"Shape of traversal_images: {traversal_images.shape}\")  # Print the shape of the generated images tensor"
   ]
  }
 ],
 "metadata": {
  "kernelspec": {
   "display_name": "ForADRL",
   "language": "python",
   "name": "python3"
  },
  "language_info": {
   "name": "python",
   "version": "3.12.3"
  }
 },
 "nbformat": 4,
 "nbformat_minor": 2
}
